{
 "cells": [
  {
   "cell_type": "code",
   "execution_count": 1,
   "metadata": {},
   "outputs": [],
   "source": [
    "# Importing Dependencies\n",
    "import warnings\n",
    "warnings.filterwarnings(\"ignore\")\n",
    "\n",
    "from bs4 import BeautifulSoup as soup\n",
    "import requests\n",
    "import pandas as pd\n",
    "from splinter import Browser\n",
    "import matplotlib.pyplot as plt\n",
    "from pprint import pprint\n",
    "import json"
   ]
  },
  {
   "attachments": {},
   "cell_type": "markdown",
   "metadata": {},
   "source": [
    "Alcohol Consumption by State - 2022 [link](https://wisevoter.com/state-rankings/alcohol-consumption-by-state/)"
   ]
  },
  {
   "cell_type": "code",
   "execution_count": 2,
   "metadata": {},
   "outputs": [],
   "source": [
    "# Assigning our browser of choice\n",
    "browser = Browser('chrome')"
   ]
  },
  {
   "cell_type": "code",
   "execution_count": 3,
   "metadata": {},
   "outputs": [],
   "source": [
    "# Using splinter to connect to our URL with the data we want to scrape\n",
    "url = \"https://wisevoter.com/state-rankings/alcohol-consumption-by-state/\"\n",
    "browser.visit(url)"
   ]
  },
  {
   "cell_type": "code",
   "execution_count": 4,
   "metadata": {},
   "outputs": [],
   "source": [
    "# Assigning our html element to a variable\n",
    "html = browser.html\n",
    "soup1 = soup(html, 'html.parser')"
   ]
  },
  {
   "cell_type": "code",
   "execution_count": 5,
   "metadata": {},
   "outputs": [
    {
     "data": {
      "text/plain": [
       "['State',\n",
       " 'Alcohol Consumption Per Capita',\n",
       " 'Ethanol Consumption Per Capita',\n",
       " 'Beer Consumption Per Capita',\n",
       " 'Wine Consumption Per Capita']"
      ]
     },
     "execution_count": 5,
     "metadata": {},
     "output_type": "execute_result"
    }
   ],
   "source": [
    "# Scrape and extract the headings from the consumption data\n",
    "headings = soup1.find_all('th', class_=\"sorting\")\n",
    "\n",
    "heading_list = []\n",
    "\n",
    "for heading in headings[1:]:\n",
    "    name = heading.text\n",
    "    heading_list.append(name)\n",
    "\n",
    "heading_list"
   ]
  },
  {
   "cell_type": "code",
   "execution_count": 6,
   "metadata": {},
   "outputs": [
    {
     "data": {
      "text/plain": [
       "[['New Hampshire', '59.5 gal', '4.83 gal', '1.89 gal', '0.84 gal'],\n",
       " ['Vermont', '49.4 gal', '3.22 gal', '1.63 gal', '0.76 gal'],\n",
       " ['Montana', '48.7 gal', '3.32 gal', '1.66 gal', '0.54 gal'],\n",
       " ['North Dakota', '43.9 gal', '3.26 gal', '1.48 gal', '0.33 gal'],\n",
       " ['Nevada', '41.7 gal', '3.43 gal', '1.32 gal', '0.59 gal'],\n",
       " ['Maine', '40.4 gal', '2.99 gal', '1.37 gal', '0.44 gal'],\n",
       " ['Delaware', '40.1 gal', '4.01 gal', '1.12 gal', '0.77 gal'],\n",
       " ['District of Columbia', '39.2 gal', '3.79 gal', '1.07 gal', '1.01 gal'],\n",
       " ['Wisconsin', '39.2 gal', '3.11 gal', '1.27 gal', '0.42 gal'],\n",
       " ['Hawaii', '38.7 gal', '2.71 gal', '1.28 gal', '0.6 gal'],\n",
       " ['Pennsylvania', '37.6 gal', '2.32 gal', '1.33 gal', '0.32 gal'],\n",
       " ['South Dakota', '37.6 gal', '2.34 gal', '1.34 gal', '0.22 gal'],\n",
       " ['Texas', '36.9 gal', '2.41 gal', '1.25 gal', '0.35 gal'],\n",
       " ['Louisiana', '36.6 gal', '2.59 gal', '1.24 gal', '0.34 gal'],\n",
       " ['Iowa', '36.4 gal', '2.5 gal', '1.26 gal', '0.23 gal'],\n",
       " ['Colorado', '36.2 gal', '2.97 gal', '1.13 gal', '0.51 gal'],\n",
       " ['Minnesota', '35.2 gal', '2.85 gal', '1.11 gal', '0.44 gal'],\n",
       " ['Oregon', '35.2 gal', '2.71 gal', '1.13 gal', '0.54 gal'],\n",
       " ['New Mexico', '34.9 gal', '2.3 gal', '1.2 gal', '0.31 gal'],\n",
       " ['Mississippi', '34.6 gal', '2.39 gal', '1.19 gal', '0.22 gal'],\n",
       " ['California', '34.5 gal', '2.63 gal', '1.07 gal', '0.62 gal'],\n",
       " ['Nebraska', '34.1 gal', '2.17 gal', '1.19 gal', '0.22 gal'],\n",
       " ['Missouri', '33.7 gal', '2.68 gal', '1.09 gal', '0.39 gal'],\n",
       " ['Alaska', '33.5 gal', '2.83 gal', '1.02 gal', '0.51 gal'],\n",
       " ['Florida', '33.2 gal', '2.74 gal', '1.03 gal', '0.56 gal'],\n",
       " ['Illinois', '32.7 gal', '2.42 gal', '1.05 gal', '0.47 gal'],\n",
       " ['North Carolina', '32.7 gal', '2.31 gal', '1.06 gal', '0.47 gal'],\n",
       " ['Wyoming', '32.7 gal', '2.94 gal', '1.2 gal', '0.33 gal'],\n",
       " ['Ohio', '32.2 gal', '2.12 gal', '1.11 gal', '0.31 gal'],\n",
       " ['Arizona', '31.8 gal', '2.24 gal', '1.05 gal', '0.38 gal'],\n",
       " ['Michigan', '31.6 gal', '2.53 gal', '1 gal', '0.42 gal'],\n",
       " ['Kansas', '31 gal', '2.12 gal', '1.08 gal', '0.14 gal'],\n",
       " ['South Carolina', '30.6 gal', '2.12 gal', '1.06 gal', '0.24 gal'],\n",
       " ['Virginia', '30.6 gal', '2.27 gal', '0.96 gal', '0.53 gal'],\n",
       " ['West Virginia', '30.6 gal', '1.82 gal', '1.14 gal', '0.11 gal'],\n",
       " ['Alabama', '30.3 gal', '2.08 gal', '1.04 gal', '0.25 gal'],\n",
       " ['Tennessee', '29.9 gal', '2.3 gal', '0.97 gal', '0.35 gal'],\n",
       " ['Massachusetts', '29.6 gal', '2.62 gal', '0.85 gal', '0.62 gal'],\n",
       " ['Indiana', '29.5 gal', '2.34 gal', '0.94 gal', '0.34 gal'],\n",
       " ['Rhode Island', '29 gal', '2.71 gal', '0.82 gal', '0.55 gal'],\n",
       " ['New Jersey', '28.8 gal', '2.63 gal', '0.82 gal', '0.61 gal'],\n",
       " ['Washington', '28.4 gal', '2.26 gal', '0.88 gal', '0.51 gal'],\n",
       " ['Oklahoma', '28.2 gal', '1.85 gal', '0.98 gal', '0.19 gal'],\n",
       " ['Connecticut', '28 gal', '2.5 gal', '0.79 gal', '0.6 gal'],\n",
       " ['Georgia', '27.6 gal', '1.91 gal', '0.93 gal', '0.25 gal'],\n",
       " ['Kentucky', '27.4 gal', '2.12 gal', '0.91 gal', '0.24 gal'],\n",
       " ['New York', '27.4 gal', '2.22 gal', '0.84 gal', '0.51 gal'],\n",
       " ['Arkansas', '27.1 gal', '1.92 gal', '0.91 gal', '0.26 gal'],\n",
       " ['Idaho', '26.5 gal', '2.1 gal', '0.83 gal', '0.32 gal'],\n",
       " ['Maryland', '25.4 gal', '2.15 gal', '0.77 gal', '0.4 gal'],\n",
       " ['Utah', '17.7 gal', '1.36 gal', '0.55 gal', '0.2 gal']]"
      ]
     },
     "execution_count": 6,
     "metadata": {},
     "output_type": "execute_result"
    }
   ],
   "source": [
    "# Repeat the same process for the rows in our table\n",
    "rows = soup1.find_all(\"tr\", class_=[\"even\", \"odd\"])\n",
    "row_list = []\n",
    "\n",
    "for row in rows:\n",
    "    elements = row.find_all('td')\n",
    "    element_list = []\n",
    "    for element in elements[1:]:\n",
    "        text = element.text\n",
    "        element_list.append(text)\n",
    "    row_list.append(element_list)\n",
    "\n",
    "row_list "
   ]
  },
  {
   "cell_type": "code",
   "execution_count": 7,
   "metadata": {},
   "outputs": [
    {
     "data": {
      "text/plain": [
       "State                              object\n",
       "Alcohol Consumption Per Capita    float64\n",
       "Ethanol Consumption Per Capita    float64\n",
       "Beer Consumption Per Capita       float64\n",
       "Wine Consumption Per Capita       float64\n",
       "dtype: object"
      ]
     },
     "execution_count": 7,
     "metadata": {},
     "output_type": "execute_result"
    }
   ],
   "source": [
    "# Converting the scraped elements into a dataframe and converting necessary data types into floats\n",
    "df = pd.DataFrame(row_list, columns=heading_list)\n",
    "df[\"Alcohol Consumption Per Capita\"]=df[\"Alcohol Consumption Per Capita\"].astype(\"str\").str.replace(\" gal\",\"\").astype(\"float64\")\n",
    "df[\"Ethanol Consumption Per Capita\"]=df[\"Ethanol Consumption Per Capita\"].astype(\"str\").str.replace(\" gal\",\"\").astype(\"float64\")\n",
    "df[\"Beer Consumption Per Capita\"]=df[\"Beer Consumption Per Capita\"].astype(\"str\").str.replace(\" gal\",\"\").astype(\"float64\")\n",
    "df[\"Wine Consumption Per Capita\"]=df[\"Wine Consumption Per Capita\"].astype(\"str\").str.replace(\" gal\",\"\").astype(\"float64\")\n",
    "\n",
    "# Confirming data types\n",
    "df.dtypes"
   ]
  },
  {
   "cell_type": "code",
   "execution_count": 8,
   "metadata": {},
   "outputs": [
    {
     "data": {
      "text/html": [
       "<div>\n",
       "<style scoped>\n",
       "    .dataframe tbody tr th:only-of-type {\n",
       "        vertical-align: middle;\n",
       "    }\n",
       "\n",
       "    .dataframe tbody tr th {\n",
       "        vertical-align: top;\n",
       "    }\n",
       "\n",
       "    .dataframe thead th {\n",
       "        text-align: right;\n",
       "    }\n",
       "</style>\n",
       "<table border=\"1\" class=\"dataframe\">\n",
       "  <thead>\n",
       "    <tr style=\"text-align: right;\">\n",
       "      <th></th>\n",
       "      <th>State</th>\n",
       "      <th>Alcohol Consumption Per Capita</th>\n",
       "      <th>Ethanol Consumption Per Capita</th>\n",
       "      <th>Beer Consumption Per Capita</th>\n",
       "      <th>Wine Consumption Per Capita</th>\n",
       "    </tr>\n",
       "  </thead>\n",
       "  <tbody>\n",
       "    <tr>\n",
       "      <th>0</th>\n",
       "      <td>New Hampshire</td>\n",
       "      <td>59.5</td>\n",
       "      <td>4.83</td>\n",
       "      <td>1.89</td>\n",
       "      <td>0.84</td>\n",
       "    </tr>\n",
       "    <tr>\n",
       "      <th>1</th>\n",
       "      <td>Vermont</td>\n",
       "      <td>49.4</td>\n",
       "      <td>3.22</td>\n",
       "      <td>1.63</td>\n",
       "      <td>0.76</td>\n",
       "    </tr>\n",
       "    <tr>\n",
       "      <th>2</th>\n",
       "      <td>Montana</td>\n",
       "      <td>48.7</td>\n",
       "      <td>3.32</td>\n",
       "      <td>1.66</td>\n",
       "      <td>0.54</td>\n",
       "    </tr>\n",
       "    <tr>\n",
       "      <th>3</th>\n",
       "      <td>North Dakota</td>\n",
       "      <td>43.9</td>\n",
       "      <td>3.26</td>\n",
       "      <td>1.48</td>\n",
       "      <td>0.33</td>\n",
       "    </tr>\n",
       "    <tr>\n",
       "      <th>4</th>\n",
       "      <td>Nevada</td>\n",
       "      <td>41.7</td>\n",
       "      <td>3.43</td>\n",
       "      <td>1.32</td>\n",
       "      <td>0.59</td>\n",
       "    </tr>\n",
       "  </tbody>\n",
       "</table>\n",
       "</div>"
      ],
      "text/plain": [
       "           State  Alcohol Consumption Per Capita  \\\n",
       "0  New Hampshire                            59.5   \n",
       "1        Vermont                            49.4   \n",
       "2        Montana                            48.7   \n",
       "3   North Dakota                            43.9   \n",
       "4         Nevada                            41.7   \n",
       "\n",
       "   Ethanol Consumption Per Capita  Beer Consumption Per Capita  \\\n",
       "0                            4.83                         1.89   \n",
       "1                            3.22                         1.63   \n",
       "2                            3.32                         1.66   \n",
       "3                            3.26                         1.48   \n",
       "4                            3.43                         1.32   \n",
       "\n",
       "   Wine Consumption Per Capita  \n",
       "0                         0.84  \n",
       "1                         0.76  \n",
       "2                         0.54  \n",
       "3                         0.33  \n",
       "4                         0.59  "
      ]
     },
     "execution_count": 8,
     "metadata": {},
     "output_type": "execute_result"
    }
   ],
   "source": [
    "# Checking our dataframe\n",
    "df.head()"
   ]
  },
  {
   "cell_type": "code",
   "execution_count": 9,
   "metadata": {},
   "outputs": [],
   "source": [
    "# Using another URL to scrape our longitudes and latitudes\n",
    "url1 = \"https://inkplant.com/code/state-latitudes-longitudes\"\n",
    "browser.visit(url1)"
   ]
  },
  {
   "cell_type": "code",
   "execution_count": 10,
   "metadata": {},
   "outputs": [],
   "source": [
    "# Assigning the html to another variable\n",
    "html1 = browser.html\n",
    "soup2 = soup(html1, 'html.parser')"
   ]
  },
  {
   "cell_type": "code",
   "execution_count": 11,
   "metadata": {},
   "outputs": [
    {
     "data": {
      "text/plain": [
       "<table class=\"table table-hover\"><thead><tr><td>State</td><td>Latitude</td><td>Longitude</td></tr></thead><tbody><tr><td>Alabama</td><td>32.806671</td><td>-86.791130</td></tr><tr><td>Alaska</td><td>61.370716</td><td>-152.404419</td></tr><tr><td>Arizona</td><td>33.729759</td><td>-111.431221</td></tr><tr><td>Arkansas</td><td>34.969704</td><td>-92.373123</td></tr><tr><td>California</td><td>36.116203</td><td>-119.681564</td></tr><tr><td>Colorado</td><td>39.059811</td><td>-105.311104</td></tr><tr><td>Connecticut</td><td>41.597782</td><td>-72.755371</td></tr><tr><td>Delaware</td><td>39.318523</td><td>-75.507141</td></tr><tr><td>District of Columbia</td><td>38.897438</td><td>-77.026817</td></tr><tr><td>Florida</td><td>27.766279</td><td>-81.686783</td></tr><tr><td>Georgia</td><td>33.040619</td><td>-83.643074</td></tr><tr><td>Hawaii</td><td>21.094318</td><td>-157.498337</td></tr><tr><td>Idaho</td><td>44.240459</td><td>-114.478828</td></tr><tr><td>Illinois</td><td>40.349457</td><td>-88.986137</td></tr><tr><td>Indiana</td><td>39.849426</td><td>-86.258278</td></tr><tr><td>Iowa</td><td>42.011539</td><td>-93.210526</td></tr><tr><td>Kansas</td><td>38.526600</td><td>-96.726486</td></tr><tr><td>Kentucky</td><td>37.668140</td><td>-84.670067</td></tr><tr><td>Louisiana</td><td>31.169546</td><td>-91.867805</td></tr><tr><td>Maine</td><td>44.693947</td><td>-69.381927</td></tr><tr><td>Maryland</td><td>39.063946</td><td>-76.802101</td></tr><tr><td>Massachusetts</td><td>42.230171</td><td>-71.530106</td></tr><tr><td>Michigan</td><td>43.326618</td><td>-84.536095</td></tr><tr><td>Minnesota</td><td>45.694454</td><td>-93.900192</td></tr><tr><td>Mississippi</td><td>32.741646</td><td>-89.678696</td></tr><tr><td>Missouri</td><td>38.456085</td><td>-92.288368</td></tr><tr><td>Montana</td><td>46.921925</td><td>-110.454353</td></tr><tr><td>Nebraska</td><td>41.125370</td><td>-98.268082</td></tr><tr><td>Nevada</td><td>38.313515</td><td>-117.055374</td></tr><tr><td>New Hampshire</td><td>43.452492</td><td>-71.563896</td></tr><tr><td>New Jersey</td><td>40.298904</td><td>-74.521011</td></tr><tr><td>New Mexico</td><td>34.840515</td><td>-106.248482</td></tr><tr><td>New York</td><td>42.165726</td><td>-74.948051</td></tr><tr><td>North Carolina</td><td>35.630066</td><td>-79.806419</td></tr><tr><td>North Dakota</td><td>47.528912</td><td>-99.784012</td></tr><tr><td>Ohio</td><td>40.388783</td><td>-82.764915</td></tr><tr><td>Oklahoma</td><td>35.565342</td><td>-96.928917</td></tr><tr><td>Oregon</td><td>44.572021</td><td>-122.070938</td></tr><tr><td>Pennsylvania</td><td>40.590752</td><td>-77.209755</td></tr><tr><td>Rhode Island</td><td>41.680893</td><td>-71.511780</td></tr><tr><td>South Carolina</td><td>33.856892</td><td>-80.945007</td></tr><tr><td>South Dakota</td><td>44.299782</td><td>-99.438828</td></tr><tr><td>Tennessee</td><td>35.747845</td><td>-86.692345</td></tr><tr><td>Texas</td><td>31.054487</td><td>-97.563461</td></tr><tr><td>Utah</td><td>40.150032</td><td>-111.862434</td></tr><tr><td>Vermont</td><td>44.045876</td><td>-72.710686</td></tr><tr><td>Virginia</td><td>37.769337</td><td>-78.169968</td></tr><tr><td>Washington</td><td>47.400902</td><td>-121.490494</td></tr><tr><td>West Virginia</td><td>38.491226</td><td>-80.954453</td></tr><tr><td>Wisconsin</td><td>44.268543</td><td>-89.616508</td></tr><tr><td>Wyoming</td><td>42.755966</td><td>-107.302490</td></tr></tbody></table>"
      ]
     },
     "execution_count": 11,
     "metadata": {},
     "output_type": "execute_result"
    }
   ],
   "source": [
    "# Creating a table element\n",
    "table = soup2.find(\"table\",class_=\"table table-hover\")\n",
    "table"
   ]
  },
  {
   "cell_type": "code",
   "execution_count": 12,
   "metadata": {},
   "outputs": [
    {
     "data": {
      "text/plain": [
       "['State', 'Latitude', 'Longitude']"
      ]
     },
     "execution_count": 12,
     "metadata": {},
     "output_type": "execute_result"
    }
   ],
   "source": [
    "# Scraping headings from our table element\n",
    "headings1 = soup2.find_all('thead')\n",
    "\n",
    "column_names = []\n",
    "for td in headings1[0].find_all('td'):\n",
    "    column_names.append(td.text)\n",
    "\n",
    "column_names"
   ]
  },
  {
   "cell_type": "code",
   "execution_count": 13,
   "metadata": {},
   "outputs": [
    {
     "data": {
      "text/plain": [
       "[['Alabama', '32.806671', '-86.791130'],\n",
       " ['Alaska', '61.370716', '-152.404419'],\n",
       " ['Arizona', '33.729759', '-111.431221'],\n",
       " ['Arkansas', '34.969704', '-92.373123'],\n",
       " ['California', '36.116203', '-119.681564']]"
      ]
     },
     "execution_count": 13,
     "metadata": {},
     "output_type": "execute_result"
    }
   ],
   "source": [
    "# Scraping rows\n",
    "tbody = soup2.find_all(\"tbody\")\n",
    "trs = tbody[0].find_all(\"tr\")\n",
    "\n",
    "row_list = []\n",
    "\n",
    "for tr in trs:\n",
    "    elements = tr.find_all('td')\n",
    "    element_list = []\n",
    "    for element in elements:\n",
    "        text = element.text\n",
    "        element_list.append(text)\n",
    "    row_list.append(element_list)\n",
    "\n",
    "row_list[:5]"
   ]
  },
  {
   "cell_type": "code",
   "execution_count": 14,
   "metadata": {},
   "outputs": [
    {
     "data": {
      "text/html": [
       "<div>\n",
       "<style scoped>\n",
       "    .dataframe tbody tr th:only-of-type {\n",
       "        vertical-align: middle;\n",
       "    }\n",
       "\n",
       "    .dataframe tbody tr th {\n",
       "        vertical-align: top;\n",
       "    }\n",
       "\n",
       "    .dataframe thead th {\n",
       "        text-align: right;\n",
       "    }\n",
       "</style>\n",
       "<table border=\"1\" class=\"dataframe\">\n",
       "  <thead>\n",
       "    <tr style=\"text-align: right;\">\n",
       "      <th></th>\n",
       "      <th>State</th>\n",
       "      <th>Latitude</th>\n",
       "      <th>Longitude</th>\n",
       "    </tr>\n",
       "  </thead>\n",
       "  <tbody>\n",
       "    <tr>\n",
       "      <th>0</th>\n",
       "      <td>Alabama</td>\n",
       "      <td>32.806671</td>\n",
       "      <td>-86.791130</td>\n",
       "    </tr>\n",
       "    <tr>\n",
       "      <th>1</th>\n",
       "      <td>Alaska</td>\n",
       "      <td>61.370716</td>\n",
       "      <td>-152.404419</td>\n",
       "    </tr>\n",
       "    <tr>\n",
       "      <th>2</th>\n",
       "      <td>Arizona</td>\n",
       "      <td>33.729759</td>\n",
       "      <td>-111.431221</td>\n",
       "    </tr>\n",
       "    <tr>\n",
       "      <th>3</th>\n",
       "      <td>Arkansas</td>\n",
       "      <td>34.969704</td>\n",
       "      <td>-92.373123</td>\n",
       "    </tr>\n",
       "    <tr>\n",
       "      <th>4</th>\n",
       "      <td>California</td>\n",
       "      <td>36.116203</td>\n",
       "      <td>-119.681564</td>\n",
       "    </tr>\n",
       "  </tbody>\n",
       "</table>\n",
       "</div>"
      ],
      "text/plain": [
       "        State   Latitude    Longitude\n",
       "0     Alabama  32.806671   -86.791130\n",
       "1      Alaska  61.370716  -152.404419\n",
       "2     Arizona  33.729759  -111.431221\n",
       "3    Arkansas  34.969704   -92.373123\n",
       "4  California  36.116203  -119.681564"
      ]
     },
     "execution_count": 14,
     "metadata": {},
     "output_type": "execute_result"
    }
   ],
   "source": [
    "# Using the scraped information to transfer into a data frame\n",
    "state_locations = pd.DataFrame(row_list, columns=column_names)\n",
    "state_locations.head()"
   ]
  },
  {
   "cell_type": "code",
   "execution_count": 15,
   "metadata": {},
   "outputs": [
    {
     "data": {
      "text/html": [
       "<div>\n",
       "<style scoped>\n",
       "    .dataframe tbody tr th:only-of-type {\n",
       "        vertical-align: middle;\n",
       "    }\n",
       "\n",
       "    .dataframe tbody tr th {\n",
       "        vertical-align: top;\n",
       "    }\n",
       "\n",
       "    .dataframe thead th {\n",
       "        text-align: right;\n",
       "    }\n",
       "</style>\n",
       "<table border=\"1\" class=\"dataframe\">\n",
       "  <thead>\n",
       "    <tr style=\"text-align: right;\">\n",
       "      <th></th>\n",
       "      <th>State</th>\n",
       "      <th>Alcohol Consumption Per Capita</th>\n",
       "      <th>Ethanol Consumption Per Capita</th>\n",
       "      <th>Beer Consumption Per Capita</th>\n",
       "      <th>Wine Consumption Per Capita</th>\n",
       "      <th>Latitude</th>\n",
       "      <th>Longitude</th>\n",
       "    </tr>\n",
       "  </thead>\n",
       "  <tbody>\n",
       "    <tr>\n",
       "      <th>0</th>\n",
       "      <td>New Hampshire</td>\n",
       "      <td>59.5</td>\n",
       "      <td>4.83</td>\n",
       "      <td>1.89</td>\n",
       "      <td>0.84</td>\n",
       "      <td>43.452492</td>\n",
       "      <td>-71.563896</td>\n",
       "    </tr>\n",
       "    <tr>\n",
       "      <th>1</th>\n",
       "      <td>Vermont</td>\n",
       "      <td>49.4</td>\n",
       "      <td>3.22</td>\n",
       "      <td>1.63</td>\n",
       "      <td>0.76</td>\n",
       "      <td>44.045876</td>\n",
       "      <td>-72.710686</td>\n",
       "    </tr>\n",
       "    <tr>\n",
       "      <th>2</th>\n",
       "      <td>Montana</td>\n",
       "      <td>48.7</td>\n",
       "      <td>3.32</td>\n",
       "      <td>1.66</td>\n",
       "      <td>0.54</td>\n",
       "      <td>46.921925</td>\n",
       "      <td>-110.454353</td>\n",
       "    </tr>\n",
       "    <tr>\n",
       "      <th>3</th>\n",
       "      <td>North Dakota</td>\n",
       "      <td>43.9</td>\n",
       "      <td>3.26</td>\n",
       "      <td>1.48</td>\n",
       "      <td>0.33</td>\n",
       "      <td>47.528912</td>\n",
       "      <td>-99.784012</td>\n",
       "    </tr>\n",
       "    <tr>\n",
       "      <th>4</th>\n",
       "      <td>Nevada</td>\n",
       "      <td>41.7</td>\n",
       "      <td>3.43</td>\n",
       "      <td>1.32</td>\n",
       "      <td>0.59</td>\n",
       "      <td>38.313515</td>\n",
       "      <td>-117.055374</td>\n",
       "    </tr>\n",
       "  </tbody>\n",
       "</table>\n",
       "</div>"
      ],
      "text/plain": [
       "           State  Alcohol Consumption Per Capita  \\\n",
       "0  New Hampshire                            59.5   \n",
       "1        Vermont                            49.4   \n",
       "2        Montana                            48.7   \n",
       "3   North Dakota                            43.9   \n",
       "4         Nevada                            41.7   \n",
       "\n",
       "   Ethanol Consumption Per Capita  Beer Consumption Per Capita  \\\n",
       "0                            4.83                         1.89   \n",
       "1                            3.22                         1.63   \n",
       "2                            3.32                         1.66   \n",
       "3                            3.26                         1.48   \n",
       "4                            3.43                         1.32   \n",
       "\n",
       "   Wine Consumption Per Capita   Latitude    Longitude  \n",
       "0                         0.84  43.452492   -71.563896  \n",
       "1                         0.76  44.045876   -72.710686  \n",
       "2                         0.54  46.921925  -110.454353  \n",
       "3                         0.33  47.528912   -99.784012  \n",
       "4                         0.59  38.313515  -117.055374  "
      ]
     },
     "execution_count": 15,
     "metadata": {},
     "output_type": "execute_result"
    }
   ],
   "source": [
    "# Using a for loop to match longitude and latitude to it's respective state\n",
    "df[\"Latitude\"]=None\n",
    "df[\"Longitude\"]=None\n",
    "\n",
    "for index, row in df.iterrows():\n",
    "    state_name = row['State']\n",
    "    \n",
    "    location_row = state_locations.loc[state_locations['State'] == state_name]\n",
    "    \n",
    "    if not location_row.empty:\n",
    "        # If a matching row is found, assign the longitude and latitude values\n",
    "        df.at[index, 'Longitude'] = location_row['Longitude'].values[0]\n",
    "        df.at[index, 'Latitude'] = location_row['Latitude'].values[0]\n",
    "\n",
    "df.head()\n"
   ]
  },
  {
   "cell_type": "code",
   "execution_count": 16,
   "metadata": {},
   "outputs": [
    {
     "data": {
      "text/html": [
       "<div>\n",
       "<style scoped>\n",
       "    .dataframe tbody tr th:only-of-type {\n",
       "        vertical-align: middle;\n",
       "    }\n",
       "\n",
       "    .dataframe tbody tr th {\n",
       "        vertical-align: top;\n",
       "    }\n",
       "\n",
       "    .dataframe thead th {\n",
       "        text-align: right;\n",
       "    }\n",
       "</style>\n",
       "<table border=\"1\" class=\"dataframe\">\n",
       "  <thead>\n",
       "    <tr style=\"text-align: right;\">\n",
       "      <th></th>\n",
       "      <th>State</th>\n",
       "      <th>Alcohol Consumption Per Capita</th>\n",
       "      <th>Ethanol Consumption Per Capita</th>\n",
       "      <th>Beer Consumption Per Capita</th>\n",
       "      <th>Wine Consumption Per Capita</th>\n",
       "      <th>Latitude</th>\n",
       "      <th>Longitude</th>\n",
       "    </tr>\n",
       "  </thead>\n",
       "  <tbody>\n",
       "    <tr>\n",
       "      <th>0</th>\n",
       "      <td>New Hampshire</td>\n",
       "      <td>59.5</td>\n",
       "      <td>4.83</td>\n",
       "      <td>1.89</td>\n",
       "      <td>0.84</td>\n",
       "      <td>43.452492</td>\n",
       "      <td>-71.563896</td>\n",
       "    </tr>\n",
       "    <tr>\n",
       "      <th>1</th>\n",
       "      <td>Vermont</td>\n",
       "      <td>49.4</td>\n",
       "      <td>3.22</td>\n",
       "      <td>1.63</td>\n",
       "      <td>0.76</td>\n",
       "      <td>44.045876</td>\n",
       "      <td>-72.710686</td>\n",
       "    </tr>\n",
       "    <tr>\n",
       "      <th>2</th>\n",
       "      <td>Montana</td>\n",
       "      <td>48.7</td>\n",
       "      <td>3.32</td>\n",
       "      <td>1.66</td>\n",
       "      <td>0.54</td>\n",
       "      <td>46.921925</td>\n",
       "      <td>-110.454353</td>\n",
       "    </tr>\n",
       "    <tr>\n",
       "      <th>3</th>\n",
       "      <td>North Dakota</td>\n",
       "      <td>43.9</td>\n",
       "      <td>3.26</td>\n",
       "      <td>1.48</td>\n",
       "      <td>0.33</td>\n",
       "      <td>47.528912</td>\n",
       "      <td>-99.784012</td>\n",
       "    </tr>\n",
       "    <tr>\n",
       "      <th>4</th>\n",
       "      <td>Nevada</td>\n",
       "      <td>41.7</td>\n",
       "      <td>3.43</td>\n",
       "      <td>1.32</td>\n",
       "      <td>0.59</td>\n",
       "      <td>38.313515</td>\n",
       "      <td>-117.055374</td>\n",
       "    </tr>\n",
       "  </tbody>\n",
       "</table>\n",
       "</div>"
      ],
      "text/plain": [
       "           State  Alcohol Consumption Per Capita  \\\n",
       "0  New Hampshire                            59.5   \n",
       "1        Vermont                            49.4   \n",
       "2        Montana                            48.7   \n",
       "3   North Dakota                            43.9   \n",
       "4         Nevada                            41.7   \n",
       "\n",
       "   Ethanol Consumption Per Capita  Beer Consumption Per Capita  \\\n",
       "0                            4.83                         1.89   \n",
       "1                            3.22                         1.63   \n",
       "2                            3.32                         1.66   \n",
       "3                            3.26                         1.48   \n",
       "4                            3.43                         1.32   \n",
       "\n",
       "   Wine Consumption Per Capita   Latitude   Longitude  \n",
       "0                         0.84  43.452492  -71.563896  \n",
       "1                         0.76  44.045876  -72.710686  \n",
       "2                         0.54  46.921925 -110.454353  \n",
       "3                         0.33  47.528912  -99.784012  \n",
       "4                         0.59  38.313515 -117.055374  "
      ]
     },
     "execution_count": 16,
     "metadata": {},
     "output_type": "execute_result"
    }
   ],
   "source": [
    "# Changing data types\n",
    "df[\"Latitude\"]=df[\"Latitude\"].astype(\"float64\")\n",
    "df[\"Longitude\"]=df[\"Longitude\"].astype(\"float64\")\n",
    "df.head()"
   ]
  },
  {
   "cell_type": "code",
   "execution_count": 17,
   "metadata": {},
   "outputs": [
    {
     "data": {
      "text/plain": [
       "State                              object\n",
       "Alcohol Consumption Per Capita    float64\n",
       "Ethanol Consumption Per Capita    float64\n",
       "Beer Consumption Per Capita       float64\n",
       "Wine Consumption Per Capita       float64\n",
       "Latitude                          float64\n",
       "Longitude                         float64\n",
       "dtype: object"
      ]
     },
     "execution_count": 17,
     "metadata": {},
     "output_type": "execute_result"
    }
   ],
   "source": [
    "# Confirming the change of data types\n",
    "df.dtypes"
   ]
  },
  {
   "cell_type": "code",
   "execution_count": 18,
   "metadata": {},
   "outputs": [],
   "source": [
    "# Converting our final dataframe into a JSON \n",
    "df.to_json(\"Data/JSON_Files/Alcohol_Consumption_by_State_2022.json\", orient=\"records\")\n"
   ]
  },
  {
   "cell_type": "code",
   "execution_count": 19,
   "metadata": {},
   "outputs": [],
   "source": [
    "# Exiting our browser\n",
    "browser.quit()"
   ]
  }
 ],
 "metadata": {
  "kernelspec": {
   "display_name": "dev",
   "language": "python",
   "name": "python3"
  },
  "language_info": {
   "codemirror_mode": {
    "name": "ipython",
    "version": 3
   },
   "file_extension": ".py",
   "mimetype": "text/x-python",
   "name": "python",
   "nbconvert_exporter": "python",
   "pygments_lexer": "ipython3",
   "version": "3.10.12"
  },
  "orig_nbformat": 4
 },
 "nbformat": 4,
 "nbformat_minor": 2
}
